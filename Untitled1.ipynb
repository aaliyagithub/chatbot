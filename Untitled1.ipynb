{
  "nbformat": 4,
  "nbformat_minor": 0,
  "metadata": {
    "colab": {
      "name": "Untitled1.ipynb",
      "provenance": [],
      "collapsed_sections": [],
      "authorship_tag": "ABX9TyMO+OKGfGfj4kB2MJQ00Ebd",
      "include_colab_link": true
    },
    "kernelspec": {
      "name": "python3",
      "display_name": "Python 3"
    }
  },
  "cells": [
    {
      "cell_type": "markdown",
      "metadata": {
        "id": "view-in-github",
        "colab_type": "text"
      },
      "source": [
        "<a href=\"https://colab.research.google.com/github/aaliyagithub/chatbot/blob/master/Untitled1.ipynb\" target=\"_parent\"><img src=\"https://colab.research.google.com/assets/colab-badge.svg\" alt=\"Open In Colab\"/></a>"
      ]
    },
    {
      "cell_type": "code",
      "metadata": {
        "id": "oS1opBk-UUFS",
        "colab_type": "code",
        "colab": {}
      },
      "source": [
        "#description: This is a smart chat bot program."
      ],
      "execution_count": null,
      "outputs": []
    },
    {
      "cell_type": "code",
      "metadata": {
        "id": "tk6EbZskVVtB",
        "colab_type": "code",
        "colab": {
          "base_uri": "https://localhost:8080/",
          "height": 51
        },
        "outputId": "3629c17b-3aae-4048-d704-1afebbd1f244"
      },
      "source": [
        "pip install nltk"
      ],
      "execution_count": 1,
      "outputs": [
        {
          "output_type": "stream",
          "text": [
            "Requirement already satisfied: nltk in /usr/local/lib/python3.6/dist-packages (3.2.5)\n",
            "Requirement already satisfied: six in /usr/local/lib/python3.6/dist-packages (from nltk) (1.15.0)\n"
          ],
          "name": "stdout"
        }
      ]
    },
    {
      "cell_type": "code",
      "metadata": {
        "id": "rBoqeLlOVnjR",
        "colab_type": "code",
        "colab": {
          "base_uri": "https://localhost:8080/",
          "height": 853
        },
        "outputId": "937f4d38-52ec-46db-9655-844a5e4f7453"
      },
      "source": [
        "pip install newspaper3k"
      ],
      "execution_count": 2,
      "outputs": [
        {
          "output_type": "stream",
          "text": [
            "Collecting newspaper3k\n",
            "\u001b[?25l  Downloading https://files.pythonhosted.org/packages/d7/b9/51afecb35bb61b188a4b44868001de348a0e8134b4dfa00ffc191567c4b9/newspaper3k-0.2.8-py3-none-any.whl (211kB)\n",
            "\r\u001b[K     |█▌                              | 10kB 14.1MB/s eta 0:00:01\r\u001b[K     |███                             | 20kB 1.7MB/s eta 0:00:01\r\u001b[K     |████▋                           | 30kB 2.3MB/s eta 0:00:01\r\u001b[K     |██████▏                         | 40kB 2.6MB/s eta 0:00:01\r\u001b[K     |███████▊                        | 51kB 2.0MB/s eta 0:00:01\r\u001b[K     |█████████▎                      | 61kB 2.3MB/s eta 0:00:01\r\u001b[K     |██████████▉                     | 71kB 2.5MB/s eta 0:00:01\r\u001b[K     |████████████▍                   | 81kB 2.7MB/s eta 0:00:01\r\u001b[K     |██████████████                  | 92kB 2.9MB/s eta 0:00:01\r\u001b[K     |███████████████▌                | 102kB 2.8MB/s eta 0:00:01\r\u001b[K     |█████████████████               | 112kB 2.8MB/s eta 0:00:01\r\u001b[K     |██████████████████▋             | 122kB 2.8MB/s eta 0:00:01\r\u001b[K     |████████████████████▏           | 133kB 2.8MB/s eta 0:00:01\r\u001b[K     |█████████████████████▊          | 143kB 2.8MB/s eta 0:00:01\r\u001b[K     |███████████████████████▎        | 153kB 2.8MB/s eta 0:00:01\r\u001b[K     |████████████████████████▉       | 163kB 2.8MB/s eta 0:00:01\r\u001b[K     |██████████████████████████▍     | 174kB 2.8MB/s eta 0:00:01\r\u001b[K     |████████████████████████████    | 184kB 2.8MB/s eta 0:00:01\r\u001b[K     |█████████████████████████████▌  | 194kB 2.8MB/s eta 0:00:01\r\u001b[K     |███████████████████████████████ | 204kB 2.8MB/s eta 0:00:01\r\u001b[K     |████████████████████████████████| 215kB 2.8MB/s \n",
            "\u001b[?25hRequirement already satisfied: beautifulsoup4>=4.4.1 in /usr/local/lib/python3.6/dist-packages (from newspaper3k) (4.6.3)\n",
            "Requirement already satisfied: lxml>=3.6.0 in /usr/local/lib/python3.6/dist-packages (from newspaper3k) (4.2.6)\n",
            "Collecting feedparser>=5.2.1\n",
            "\u001b[?25l  Downloading https://files.pythonhosted.org/packages/91/d8/7d37fec71ff7c9dbcdd80d2b48bcdd86d6af502156fc93846fb0102cb2c4/feedparser-5.2.1.tar.bz2 (192kB)\n",
            "\r\u001b[K     |█▊                              | 10kB 15.3MB/s eta 0:00:01\r\u001b[K     |███▍                            | 20kB 15.7MB/s eta 0:00:01\r\u001b[K     |█████▏                          | 30kB 20.6MB/s eta 0:00:01\r\u001b[K     |██████▉                         | 40kB 9.7MB/s eta 0:00:01\r\u001b[K     |████████▌                       | 51kB 7.5MB/s eta 0:00:01\r\u001b[K     |██████████▎                     | 61kB 8.8MB/s eta 0:00:01\r\u001b[K     |████████████                    | 71kB 7.8MB/s eta 0:00:01\r\u001b[K     |█████████████▋                  | 81kB 8.7MB/s eta 0:00:01\r\u001b[K     |███████████████▍                | 92kB 8.2MB/s eta 0:00:01\r\u001b[K     |█████████████████               | 102kB 7.7MB/s eta 0:00:01\r\u001b[K     |██████████████████▊             | 112kB 7.7MB/s eta 0:00:01\r\u001b[K     |████████████████████▌           | 122kB 7.7MB/s eta 0:00:01\r\u001b[K     |██████████████████████▏         | 133kB 7.7MB/s eta 0:00:01\r\u001b[K     |███████████████████████▉        | 143kB 7.7MB/s eta 0:00:01\r\u001b[K     |█████████████████████████▋      | 153kB 7.7MB/s eta 0:00:01\r\u001b[K     |███████████████████████████▎    | 163kB 7.7MB/s eta 0:00:01\r\u001b[K     |█████████████████████████████   | 174kB 7.7MB/s eta 0:00:01\r\u001b[K     |██████████████████████████████▊ | 184kB 7.7MB/s eta 0:00:01\r\u001b[K     |████████████████████████████████| 194kB 7.7MB/s \n",
            "\u001b[?25hRequirement already satisfied: PyYAML>=3.11 in /usr/local/lib/python3.6/dist-packages (from newspaper3k) (3.13)\n",
            "Collecting tldextract>=2.0.1\n",
            "\u001b[?25l  Downloading https://files.pythonhosted.org/packages/12/cf/d0ff82625e53bd245d6173ce6333d190abbfcd94e4c30e54b4e16b474216/tldextract-2.2.3-py2.py3-none-any.whl (48kB)\n",
            "\u001b[K     |████████████████████████████████| 51kB 5.1MB/s \n",
            "\u001b[?25hRequirement already satisfied: python-dateutil>=2.5.3 in /usr/local/lib/python3.6/dist-packages (from newspaper3k) (2.8.1)\n",
            "Collecting cssselect>=0.9.2\n",
            "  Downloading https://files.pythonhosted.org/packages/3b/d4/3b5c17f00cce85b9a1e6f91096e1cc8e8ede2e1be8e96b87ce1ed09e92c5/cssselect-1.1.0-py2.py3-none-any.whl\n",
            "Collecting jieba3k>=0.35.1\n",
            "\u001b[?25l  Downloading https://files.pythonhosted.org/packages/a9/cb/2c8332bcdc14d33b0bedd18ae0a4981a069c3513e445120da3c3f23a8aaa/jieba3k-0.35.1.zip (7.4MB)\n",
            "\u001b[K     |████████████████████████████████| 7.4MB 10.3MB/s \n",
            "\u001b[?25hCollecting tinysegmenter==0.3\n",
            "  Downloading https://files.pythonhosted.org/packages/17/82/86982e4b6d16e4febc79c2a1d68ee3b707e8a020c5d2bc4af8052d0f136a/tinysegmenter-0.3.tar.gz\n",
            "Collecting feedfinder2>=0.0.4\n",
            "  Downloading https://files.pythonhosted.org/packages/35/82/1251fefec3bb4b03fd966c7e7f7a41c9fc2bb00d823a34c13f847fd61406/feedfinder2-0.0.4.tar.gz\n",
            "Requirement already satisfied: requests>=2.10.0 in /usr/local/lib/python3.6/dist-packages (from newspaper3k) (2.23.0)\n",
            "Requirement already satisfied: Pillow>=3.3.0 in /usr/local/lib/python3.6/dist-packages (from newspaper3k) (7.0.0)\n",
            "Requirement already satisfied: nltk>=3.2.1 in /usr/local/lib/python3.6/dist-packages (from newspaper3k) (3.2.5)\n",
            "Requirement already satisfied: idna in /usr/local/lib/python3.6/dist-packages (from tldextract>=2.0.1->newspaper3k) (2.10)\n",
            "Collecting requests-file>=1.4\n",
            "  Downloading https://files.pythonhosted.org/packages/77/86/cdb5e8eaed90796aa83a6d9f75cfbd37af553c47a291cd47bc410ef9bdb2/requests_file-1.5.1-py2.py3-none-any.whl\n",
            "Requirement already satisfied: six>=1.5 in /usr/local/lib/python3.6/dist-packages (from python-dateutil>=2.5.3->newspaper3k) (1.15.0)\n",
            "Requirement already satisfied: certifi>=2017.4.17 in /usr/local/lib/python3.6/dist-packages (from requests>=2.10.0->newspaper3k) (2020.6.20)\n",
            "Requirement already satisfied: urllib3!=1.25.0,!=1.25.1,<1.26,>=1.21.1 in /usr/local/lib/python3.6/dist-packages (from requests>=2.10.0->newspaper3k) (1.24.3)\n",
            "Requirement already satisfied: chardet<4,>=3.0.2 in /usr/local/lib/python3.6/dist-packages (from requests>=2.10.0->newspaper3k) (3.0.4)\n",
            "Building wheels for collected packages: feedparser, jieba3k, tinysegmenter, feedfinder2\n",
            "  Building wheel for feedparser (setup.py) ... \u001b[?25l\u001b[?25hdone\n",
            "  Created wheel for feedparser: filename=feedparser-5.2.1-cp36-none-any.whl size=44940 sha256=192ae645792b10d14e6320247255ef4431f72974a415e8ec2ef4d60686936ba7\n",
            "  Stored in directory: /root/.cache/pip/wheels/8c/69/b7/f52763c41c5471df57703a0ef718a32a5e81ee35dcf6d4f97f\n",
            "  Building wheel for jieba3k (setup.py) ... \u001b[?25l\u001b[?25hdone\n",
            "  Created wheel for jieba3k: filename=jieba3k-0.35.1-cp36-none-any.whl size=7398406 sha256=6d6ea64611a9289a26e6fd337e4db93631172755bef7d019465c4828bba4c544\n",
            "  Stored in directory: /root/.cache/pip/wheels/83/15/9c/a3f1f67e7f7181170ad37d32e503c35da20627c013f438ed34\n",
            "  Building wheel for tinysegmenter (setup.py) ... \u001b[?25l\u001b[?25hdone\n",
            "  Created wheel for tinysegmenter: filename=tinysegmenter-0.3-cp36-none-any.whl size=13539 sha256=2c7fce2812b2dcf307e7ebd888fada3aed18655a89802408087ef065c2fc8d13\n",
            "  Stored in directory: /root/.cache/pip/wheels/81/2b/43/a02ede72324dd40cdd7ca53aad718c7710628e91b8b0dc0f02\n",
            "  Building wheel for feedfinder2 (setup.py) ... \u001b[?25l\u001b[?25hdone\n",
            "  Created wheel for feedfinder2: filename=feedfinder2-0.0.4-cp36-none-any.whl size=3357 sha256=bfed1e95a427ff3c8249b5b169c4dfe9f4ebad1ae3105d69868389e314cfc111\n",
            "  Stored in directory: /root/.cache/pip/wheels/de/03/ca/778e3a7a627e3d98836cc890e7cb40c7575424cfd3340f40ed\n",
            "Successfully built feedparser jieba3k tinysegmenter feedfinder2\n",
            "Installing collected packages: feedparser, requests-file, tldextract, cssselect, jieba3k, tinysegmenter, feedfinder2, newspaper3k\n",
            "Successfully installed cssselect-1.1.0 feedfinder2-0.0.4 feedparser-5.2.1 jieba3k-0.35.1 newspaper3k-0.2.8 requests-file-1.5.1 tinysegmenter-0.3 tldextract-2.2.3\n"
          ],
          "name": "stdout"
        }
      ]
    },
    {
      "cell_type": "code",
      "metadata": {
        "id": "8iXH_Nx6WRih",
        "colab_type": "code",
        "colab": {}
      },
      "source": [
        "#Import the libraries\n",
        "from newspaper import Article\n",
        "import random\n",
        "import string\n",
        "import nltk\n",
        "from sklearn.feature_extraction.text import CountVectorizer\n",
        "from sklearn.metrics.pairwise import cosine_similarity\n",
        "import numpy as np\n",
        "import warnings\n",
        "warnings.filterwarnings('ignore')"
      ],
      "execution_count": 10,
      "outputs": []
    },
    {
      "cell_type": "code",
      "metadata": {
        "id": "GYyHvt2XX0PJ",
        "colab_type": "code",
        "colab": {
          "base_uri": "https://localhost:8080/",
          "height": 34
        },
        "outputId": "94e8a5fc-1bbc-4ad2-813c-ada3de9ae509"
      },
      "source": [
        "#Download the punkt package\n",
        "nltk.download('punkt',quiet=True)"
      ],
      "execution_count": 11,
      "outputs": [
        {
          "output_type": "execute_result",
          "data": {
            "text/plain": [
              "True"
            ]
          },
          "metadata": {
            "tags": []
          },
          "execution_count": 11
        }
      ]
    },
    {
      "cell_type": "code",
      "metadata": {
        "id": "zJknK_B_X6Gb",
        "colab_type": "code",
        "colab": {}
      },
      "source": [
        "# Get the article\n",
        "#If you ask the bot few questions, it should answer them back to you.\n",
        "article=Article('https://pestrust.edu.in/pesitm/')\n",
        "article.download()\n",
        "article.parse()\n",
        "article.nlp()\n",
        "corpus=article.text \n"
      ],
      "execution_count": 12,
      "outputs": []
    },
    {
      "cell_type": "code",
      "metadata": {
        "id": "R4OZGq76d9sV",
        "colab_type": "code",
        "colab": {
          "base_uri": "https://localhost:8080/",
          "height": 88
        },
        "outputId": "8640f0fd-6f6f-41d9-a595-a4d8476d5feb"
      },
      "source": [
        "#print the article steps\n",
        "print(corpus)"
      ],
      "execution_count": 14,
      "outputs": [
        {
          "output_type": "stream",
          "text": [
            "Equal Education for everyone\n",
            "\n",
            "Just like how a play ground gives an even platform everyone to put their best effort forward, at PESITM, we strive to treat every student equally harness their true potential. Irrespective of a student’s academic or cultural back ground vital inputs are systematically feed through an innovative VALUE ADDED EDUCATION medium. Through this medium, every student goes through 24 hours of employability and life skills training in every semester at a basic, intermediate and advanced level. At a basic level, students’ strengths and weakness are evaluated, at intermediate level a foundation is setup for actionable measures and at the advanced level the focus is on delivery where the student learns to crack the interviews of top recruiters and achieve their dreams jobs.\n"
          ],
          "name": "stdout"
        }
      ]
    },
    {
      "cell_type": "code",
      "metadata": {
        "id": "B8DEiJJjeCtw",
        "colab_type": "code",
        "colab": {}
      },
      "source": [
        "#Tockenization\n",
        "text=corpus\n",
        "sentence_list=nltk.sent_tokenize(text) #A list of sentence "
      ],
      "execution_count": 15,
      "outputs": []
    },
    {
      "cell_type": "code",
      "metadata": {
        "id": "U4Ua-wclfDD_",
        "colab_type": "code",
        "colab": {
          "base_uri": "https://localhost:8080/",
          "height": 54
        },
        "outputId": "2ff1efcc-54f0-4959-b9cd-0f01e19de51b"
      },
      "source": [
        "#print the list of sentences\n",
        "print(sentence_list)"
      ],
      "execution_count": 16,
      "outputs": [
        {
          "output_type": "stream",
          "text": [
            "['Equal Education for everyone\\n\\nJust like how a play ground gives an even platform everyone to put their best effort forward, at PESITM, we strive to treat every student equally harness their true potential.', 'Irrespective of a student’s academic or cultural back ground vital inputs are systematically feed through an innovative VALUE ADDED EDUCATION medium.', 'Through this medium, every student goes through 24 hours of employability and life skills training in every semester at a basic, intermediate and advanced level.', 'At a basic level, students’ strengths and weakness are evaluated, at intermediate level a foundation is setup for actionable measures and at the advanced level the focus is on delivery where the student learns to crack the interviews of top recruiters and achieve their dreams jobs.']\n"
          ],
          "name": "stdout"
        }
      ]
    },
    {
      "cell_type": "code",
      "metadata": {
        "id": "Yz1QBgKmfFql",
        "colab_type": "code",
        "colab": {}
      },
      "source": [
        "#A function to return a random greeting response to a user greeting\n",
        "def greeting_response(text):\n",
        "\ttext=text.lower() #lower case letters\n",
        "\t#Bots greeting response\n",
        "\tbot_greetings=['howdy','hi','hello','hey','hola']\n",
        "\t#user greetings\n",
        "\tuser_greetings=['hi','hey','hello','hola','greetings','wassup']\n",
        "\tfor word in text.split():\n",
        "\t  if word in user_greetings:\n",
        "\t\t  return random.choice(bot_greetings)"
      ],
      "execution_count": 28,
      "outputs": []
    },
    {
      "cell_type": "code",
      "metadata": {
        "id": "YWy1DKHUffUt",
        "colab_type": "code",
        "colab": {}
      },
      "source": [
        "#declare a function index_sort\n",
        "def index_sort(list_var):\n",
        "  length=len(list_var)\n",
        "  list_index =list(range(0,length))\n",
        "  x=list_var\n",
        "  for i in range(length):\n",
        "    for j in range(length):\n",
        "      if x[list_index[i]]>x[list_index[j]]:\n",
        "\t\t#swap\n",
        "        temp=list_index[i]\n",
        "        list_index[i]=list_index[j]\n",
        "        list_index[j]=temp\n",
        "  return list_index"
      ],
      "execution_count": 20,
      "outputs": []
    },
    {
      "cell_type": "code",
      "metadata": {
        "id": "NlK7g8Vdf34n",
        "colab_type": "code",
        "colab": {}
      },
      "source": [
        "#Create the bot response\n",
        "def bot_response(user_input):\n",
        "  user_input=user_input.lower()\n",
        "  sentence_list.append(user_input)\n",
        "  bot_response=''\n",
        "  cm=CountVectorizer().fit_transform(sentence_list)\n",
        "  similarity_scores=cosine_similarity(cm[-1],cm)    \n",
        "  similarity_scores_list=similarity_scores.flatter()\n",
        "  index=index_sort(similarity_scores_list)\n",
        "  index=index[1:]\n",
        "  response_flag=0\n",
        "  j=0\n",
        "  for i in range(len(index)):\n",
        "    if similarity_scores_list[index[i]]> 0.0:\n",
        "      bot_response=bot_response+' '+sentence_list[index[i]]\n",
        "      response_flag=1  #response\n",
        "      j=j+1\n",
        "    if j>2: #to limit the sentence\n",
        "      break\n",
        "  if response_flag==0:   #when you give gibberish input it'll ask apolojize to you\n",
        "\t  bot_response=bot_response+' '+\"I apologize, I don't understand\"\n",
        "\t  sentence_list.remove(user_input)\n",
        "  return bot_response "
      ],
      "execution_count": 35,
      "outputs": []
    },
    {
      "cell_type": "code",
      "metadata": {
        "id": "sNZ_SVpykyEu",
        "colab_type": "code",
        "colab": {
          "base_uri": "https://localhost:8080/",
          "height": 367
        },
        "outputId": "d5f01437-e97b-401a-f694-532d65060de3"
      },
      "source": [
        "#Start the chat\n",
        "print('college bot: I am college bot or bot for short. i will answer your queries about college. if you want to exit then type bye.')\n",
        "exit_list=['exit','see you later','bye','quit','break']\n",
        "while(True):\n",
        "  user_input=input() \n",
        "  if user_input.lower() in exit_list:\n",
        "    print('college bot:chat with you later')\n",
        "    break\n",
        "  else:\n",
        "    if greeting_response(user_input)!= None:\n",
        "      print('college bot: '+greeting_response(user_input)) \n",
        "    else:\n",
        "      print('college bot: '+bot_response(user_input)) \n",
        "    "
      ],
      "execution_count": 36,
      "outputs": [
        {
          "output_type": "stream",
          "text": [
            "college bot: I am college bot or bot for short. i will answer your queries about college. if you want to exit then type bye.\n",
            "hii\n"
          ],
          "name": "stdout"
        },
        {
          "output_type": "error",
          "ename": "NameError",
          "evalue": "ignored",
          "traceback": [
            "\u001b[0;31m---------------------------------------------------------------------------\u001b[0m",
            "\u001b[0;31mNameError\u001b[0m                                 Traceback (most recent call last)",
            "\u001b[0;32m<ipython-input-36-7c579d516b16>\u001b[0m in \u001b[0;36m<module>\u001b[0;34m()\u001b[0m\n\u001b[1;32m     11\u001b[0m       \u001b[0mprint\u001b[0m\u001b[0;34m(\u001b[0m\u001b[0;34m'college bot: '\u001b[0m\u001b[0;34m+\u001b[0m\u001b[0mgreeting_response\u001b[0m\u001b[0;34m(\u001b[0m\u001b[0muser_input\u001b[0m\u001b[0;34m)\u001b[0m\u001b[0;34m)\u001b[0m\u001b[0;34m\u001b[0m\u001b[0;34m\u001b[0m\u001b[0m\n\u001b[1;32m     12\u001b[0m     \u001b[0;32melse\u001b[0m\u001b[0;34m:\u001b[0m\u001b[0;34m\u001b[0m\u001b[0;34m\u001b[0m\u001b[0m\n\u001b[0;32m---> 13\u001b[0;31m       \u001b[0mprint\u001b[0m\u001b[0;34m(\u001b[0m\u001b[0;34m'college bot: '\u001b[0m\u001b[0;34m+\u001b[0m\u001b[0mbot_response\u001b[0m\u001b[0;34m(\u001b[0m\u001b[0muser_input\u001b[0m\u001b[0;34m)\u001b[0m\u001b[0;34m)\u001b[0m\u001b[0;34m\u001b[0m\u001b[0;34m\u001b[0m\u001b[0m\n\u001b[0m\u001b[1;32m     14\u001b[0m \u001b[0;34m\u001b[0m\u001b[0m\n",
            "\u001b[0;32m<ipython-input-35-e99dabbc221b>\u001b[0m in \u001b[0;36mbot_response\u001b[0;34m(user_input)\u001b[0m\n\u001b[1;32m      2\u001b[0m \u001b[0;32mdef\u001b[0m \u001b[0mbot_response\u001b[0m\u001b[0;34m(\u001b[0m\u001b[0muser_input\u001b[0m\u001b[0;34m)\u001b[0m\u001b[0;34m:\u001b[0m\u001b[0;34m\u001b[0m\u001b[0;34m\u001b[0m\u001b[0m\n\u001b[1;32m      3\u001b[0m   \u001b[0muser_input\u001b[0m\u001b[0;34m=\u001b[0m\u001b[0muser_input\u001b[0m\u001b[0;34m.\u001b[0m\u001b[0mlower\u001b[0m\u001b[0;34m(\u001b[0m\u001b[0;34m)\u001b[0m\u001b[0;34m\u001b[0m\u001b[0;34m\u001b[0m\u001b[0m\n\u001b[0;32m----> 4\u001b[0;31m   \u001b[0msentence_list\u001b[0m\u001b[0;34m.\u001b[0m\u001b[0mappend\u001b[0m\u001b[0;34m(\u001b[0m\u001b[0muser_input\u001b[0m\u001b[0;34m)\u001b[0m\u001b[0;34m\u001b[0m\u001b[0;34m\u001b[0m\u001b[0m\n\u001b[0m\u001b[1;32m      5\u001b[0m   \u001b[0mbot_response\u001b[0m\u001b[0;34m=\u001b[0m\u001b[0;34m''\u001b[0m\u001b[0;34m\u001b[0m\u001b[0;34m\u001b[0m\u001b[0m\n\u001b[1;32m      6\u001b[0m   \u001b[0mcm\u001b[0m\u001b[0;34m=\u001b[0m\u001b[0mCountVectorizer\u001b[0m\u001b[0;34m(\u001b[0m\u001b[0;34m)\u001b[0m\u001b[0;34m.\u001b[0m\u001b[0mfit_transform\u001b[0m\u001b[0;34m(\u001b[0m\u001b[0msentence_list\u001b[0m\u001b[0;34m)\u001b[0m\u001b[0;34m\u001b[0m\u001b[0;34m\u001b[0m\u001b[0m\n",
            "\u001b[0;31mNameError\u001b[0m: name 'sentence_list' is not defined"
          ]
        }
      ]
    }
  ]
}